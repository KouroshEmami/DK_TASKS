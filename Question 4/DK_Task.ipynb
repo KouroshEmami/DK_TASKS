{
 "cells": [
  {
   "cell_type": "markdown",
   "id": "41850c02",
   "metadata": {},
   "source": [
    "<center><span style=\"color: #b967ff; font-family: cursive; font-size: 28px;\" >1. Import useful libraries 📚</span><center/>"
   ]
  },
  {
   "cell_type": "code",
   "execution_count": 2,
   "id": "61b57a3b",
   "metadata": {},
   "outputs": [
    {
     "name": "stdout",
     "output_type": "stream",
     "text": [
      "imported succesfully!\n"
     ]
    }
   ],
   "source": [
    "import pandas as pd\n",
    "import numpy as np\n",
    "import matplotlib.pyplot as plt\n",
    "import seaborn as sns\n",
    "import os\n",
    "print('imported succesfully!')"
   ]
  },
  {
   "cell_type": "markdown",
   "id": "f64b80f5",
   "metadata": {},
   "source": [
    "----------------------"
   ]
  },
  {
   "cell_type": "markdown",
   "id": "6963e0bb",
   "metadata": {},
   "source": [
    "<center><span style=\"color: #b967ff; font-family: cursive; font-size: 28px;\" >2. Import the files 🧩</span><center/>"
   ]
  },
  {
   "cell_type": "code",
   "execution_count": 3,
   "id": "f72d795d",
   "metadata": {},
   "outputs": [],
   "source": [
    "source_path = r'C:\\Users\\user\\Desktop\\Digikala Task\\tasks'\n",
    "files_list = ['customers.pickle', 'orders.pickle', 'products.pickle', 'transactions.pickle']\n",
    "dataframes = {}\n",
    "for file in files_list:\n",
    "    file_name = file.split('.')[0]\n",
    "    df = pd.read_pickle(source_path + '/' + file)\n",
    "    dataframes[file_name] = df"
   ]
  },
  {
   "cell_type": "code",
   "execution_count": 4,
   "id": "784e8e0c",
   "metadata": {},
   "outputs": [],
   "source": [
    "customers = dataframes['customers']\n",
    "orders = dataframes['orders']\n",
    "products = dataframes['products']\n",
    "transactions = dataframes['transactions']"
   ]
  },
  {
   "cell_type": "markdown",
   "id": "51a5de06",
   "metadata": {},
   "source": [
    "-------------------"
   ]
  },
  {
   "cell_type": "markdown",
   "id": "303483be",
   "metadata": {},
   "source": [
    "<center><span style=\"color: #b967ff; font-family: cursive; font-size: 28px;\" >3. Data Cleaning 🧹</span><center/>"
   ]
  },
  {
   "cell_type": "markdown",
   "id": "d14cf6d3",
   "metadata": {},
   "source": [
    "<center><span style=\"color: #ff71ce; font-family: cursive; font-size: 28px;\" > 3.1. Customers </span></center>"
   ]
  },
  {
   "cell_type": "code",
   "execution_count": 5,
   "id": "e6d57af0",
   "metadata": {},
   "outputs": [
    {
     "data": {
      "text/html": [
       "<div>\n",
       "<style scoped>\n",
       "    .dataframe tbody tr th:only-of-type {\n",
       "        vertical-align: middle;\n",
       "    }\n",
       "\n",
       "    .dataframe tbody tr th {\n",
       "        vertical-align: top;\n",
       "    }\n",
       "\n",
       "    .dataframe thead th {\n",
       "        text-align: right;\n",
       "    }\n",
       "</style>\n",
       "<table border=\"1\" class=\"dataframe\">\n",
       "  <thead>\n",
       "    <tr style=\"text-align: right;\">\n",
       "      <th></th>\n",
       "      <th>customer_id</th>\n",
       "      <th>customer_name</th>\n",
       "      <th>customer_email</th>\n",
       "      <th>signup_date</th>\n",
       "    </tr>\n",
       "  </thead>\n",
       "  <tbody>\n",
       "    <tr>\n",
       "      <th>0</th>\n",
       "      <td>1</td>\n",
       "      <td>Customer 1</td>\n",
       "      <td>customer1@example.com</td>\n",
       "      <td>2020-01-01 00:00:00.000000000</td>\n",
       "    </tr>\n",
       "    <tr>\n",
       "      <th>1</th>\n",
       "      <td>2</td>\n",
       "      <td>Customer 2</td>\n",
       "      <td>customer2@example.com</td>\n",
       "      <td>2020-01-01 17:32:15.135135135</td>\n",
       "    </tr>\n",
       "    <tr>\n",
       "      <th>2</th>\n",
       "      <td>3</td>\n",
       "      <td>Customer 3</td>\n",
       "      <td>customer3@example.com</td>\n",
       "      <td>2020-01-02 11:04:30.270270270</td>\n",
       "    </tr>\n",
       "    <tr>\n",
       "      <th>3</th>\n",
       "      <td>4</td>\n",
       "      <td>Customer 4</td>\n",
       "      <td>customer4@example.com</td>\n",
       "      <td>2020-01-03 04:36:45.405405405</td>\n",
       "    </tr>\n",
       "    <tr>\n",
       "      <th>4</th>\n",
       "      <td>5</td>\n",
       "      <td>Customer 5</td>\n",
       "      <td>customer5@example.com</td>\n",
       "      <td>2020-01-03 22:09:00.540540540</td>\n",
       "    </tr>\n",
       "  </tbody>\n",
       "</table>\n",
       "</div>"
      ],
      "text/plain": [
       "   customer_id customer_name         customer_email  \\\n",
       "0            1    Customer 1  customer1@example.com   \n",
       "1            2    Customer 2  customer2@example.com   \n",
       "2            3    Customer 3  customer3@example.com   \n",
       "3            4    Customer 4  customer4@example.com   \n",
       "4            5    Customer 5  customer5@example.com   \n",
       "\n",
       "                    signup_date  \n",
       "0 2020-01-01 00:00:00.000000000  \n",
       "1 2020-01-01 17:32:15.135135135  \n",
       "2 2020-01-02 11:04:30.270270270  \n",
       "3 2020-01-03 04:36:45.405405405  \n",
       "4 2020-01-03 22:09:00.540540540  "
      ]
     },
     "execution_count": 5,
     "metadata": {},
     "output_type": "execute_result"
    }
   ],
   "source": [
    "customers.head()"
   ]
  },
  {
   "cell_type": "code",
   "execution_count": 6,
   "id": "a45a80bf",
   "metadata": {},
   "outputs": [
    {
     "name": "stdout",
     "output_type": "stream",
     "text": [
      "<class 'pandas.core.frame.DataFrame'>\n",
      "RangeIndex: 1000 entries, 0 to 999\n",
      "Data columns (total 4 columns):\n",
      " #   Column          Non-Null Count  Dtype         \n",
      "---  ------          --------------  -----         \n",
      " 0   customer_id     1000 non-null   int32         \n",
      " 1   customer_name   1000 non-null   object        \n",
      " 2   customer_email  1000 non-null   object        \n",
      " 3   signup_date     1000 non-null   datetime64[ns]\n",
      "dtypes: datetime64[ns](1), int32(1), object(2)\n",
      "memory usage: 27.5+ KB\n"
     ]
    }
   ],
   "source": [
    "customers.info()"
   ]
  },
  {
   "cell_type": "code",
   "execution_count": 7,
   "id": "d40af40d",
   "metadata": {},
   "outputs": [
    {
     "data": {
      "text/plain": [
       "customer_id       0\n",
       "customer_name     0\n",
       "customer_email    0\n",
       "signup_date       0\n",
       "dtype: int64"
      ]
     },
     "execution_count": 7,
     "metadata": {},
     "output_type": "execute_result"
    }
   ],
   "source": [
    "customers.isnull().sum()"
   ]
  },
  {
   "cell_type": "code",
   "execution_count": 8,
   "id": "0d8da6cb",
   "metadata": {},
   "outputs": [
    {
     "data": {
      "text/plain": [
       "0"
      ]
     },
     "execution_count": 8,
     "metadata": {},
     "output_type": "execute_result"
    }
   ],
   "source": [
    "customers.duplicated().sum()"
   ]
  },
  {
   "cell_type": "markdown",
   "id": "2c3270b3",
   "metadata": {},
   "source": [
    "<center><span style=\"color: #ff71ce; font-family: cursive; font-size: 28px;\" > 3.2. Orders </span></center>"
   ]
  },
  {
   "cell_type": "code",
   "execution_count": 9,
   "id": "9b520196",
   "metadata": {},
   "outputs": [
    {
     "data": {
      "text/html": [
       "<div>\n",
       "<style scoped>\n",
       "    .dataframe tbody tr th:only-of-type {\n",
       "        vertical-align: middle;\n",
       "    }\n",
       "\n",
       "    .dataframe tbody tr th {\n",
       "        vertical-align: top;\n",
       "    }\n",
       "\n",
       "    .dataframe thead th {\n",
       "        text-align: right;\n",
       "    }\n",
       "</style>\n",
       "<table border=\"1\" class=\"dataframe\">\n",
       "  <thead>\n",
       "    <tr style=\"text-align: right;\">\n",
       "      <th></th>\n",
       "      <th>order_id</th>\n",
       "      <th>customer_id</th>\n",
       "      <th>order_date</th>\n",
       "    </tr>\n",
       "  </thead>\n",
       "  <tbody>\n",
       "    <tr>\n",
       "      <th>0</th>\n",
       "      <td>1</td>\n",
       "      <td>685</td>\n",
       "      <td>2021-11-20</td>\n",
       "    </tr>\n",
       "    <tr>\n",
       "      <th>1</th>\n",
       "      <td>2</td>\n",
       "      <td>560</td>\n",
       "      <td>2020-07-10</td>\n",
       "    </tr>\n",
       "    <tr>\n",
       "      <th>2</th>\n",
       "      <td>3</td>\n",
       "      <td>630</td>\n",
       "      <td>2022-06-03</td>\n",
       "    </tr>\n",
       "    <tr>\n",
       "      <th>3</th>\n",
       "      <td>4</td>\n",
       "      <td>193</td>\n",
       "      <td>2021-09-07</td>\n",
       "    </tr>\n",
       "    <tr>\n",
       "      <th>4</th>\n",
       "      <td>5</td>\n",
       "      <td>836</td>\n",
       "      <td>2021-10-11</td>\n",
       "    </tr>\n",
       "  </tbody>\n",
       "</table>\n",
       "</div>"
      ],
      "text/plain": [
       "   order_id  customer_id order_date\n",
       "0         1          685 2021-11-20\n",
       "1         2          560 2020-07-10\n",
       "2         3          630 2022-06-03\n",
       "3         4          193 2021-09-07\n",
       "4         5          836 2021-10-11"
      ]
     },
     "execution_count": 9,
     "metadata": {},
     "output_type": "execute_result"
    }
   ],
   "source": [
    "orders.head()"
   ]
  },
  {
   "cell_type": "code",
   "execution_count": 10,
   "id": "1c83d8a0",
   "metadata": {},
   "outputs": [
    {
     "name": "stdout",
     "output_type": "stream",
     "text": [
      "<class 'pandas.core.frame.DataFrame'>\n",
      "RangeIndex: 5000 entries, 0 to 4999\n",
      "Data columns (total 3 columns):\n",
      " #   Column       Non-Null Count  Dtype         \n",
      "---  ------       --------------  -----         \n",
      " 0   order_id     5000 non-null   int32         \n",
      " 1   customer_id  5000 non-null   int32         \n",
      " 2   order_date   5000 non-null   datetime64[ns]\n",
      "dtypes: datetime64[ns](1), int32(2)\n",
      "memory usage: 78.3 KB\n"
     ]
    }
   ],
   "source": [
    "orders.info()"
   ]
  },
  {
   "cell_type": "code",
   "execution_count": 11,
   "id": "30762c7f",
   "metadata": {},
   "outputs": [
    {
     "data": {
      "text/plain": [
       "order_id       0\n",
       "customer_id    0\n",
       "order_date     0\n",
       "dtype: int64"
      ]
     },
     "execution_count": 11,
     "metadata": {},
     "output_type": "execute_result"
    }
   ],
   "source": [
    "orders.isnull().sum()"
   ]
  },
  {
   "cell_type": "code",
   "execution_count": 12,
   "id": "6e1e37d1",
   "metadata": {},
   "outputs": [
    {
     "data": {
      "text/plain": [
       "0"
      ]
     },
     "execution_count": 12,
     "metadata": {},
     "output_type": "execute_result"
    }
   ],
   "source": [
    "orders.duplicated().sum()"
   ]
  },
  {
   "cell_type": "markdown",
   "id": "9fe66dbe",
   "metadata": {},
   "source": [
    "<center><span style=\"color: #ff71ce; font-family: cursive; font-size: 28px;\" > 3.3. Products </span></center>"
   ]
  },
  {
   "cell_type": "code",
   "execution_count": 13,
   "id": "b971798b",
   "metadata": {},
   "outputs": [
    {
     "data": {
      "text/html": [
       "<div>\n",
       "<style scoped>\n",
       "    .dataframe tbody tr th:only-of-type {\n",
       "        vertical-align: middle;\n",
       "    }\n",
       "\n",
       "    .dataframe tbody tr th {\n",
       "        vertical-align: top;\n",
       "    }\n",
       "\n",
       "    .dataframe thead th {\n",
       "        text-align: right;\n",
       "    }\n",
       "</style>\n",
       "<table border=\"1\" class=\"dataframe\">\n",
       "  <thead>\n",
       "    <tr style=\"text-align: right;\">\n",
       "      <th></th>\n",
       "      <th>product_id</th>\n",
       "      <th>product_name</th>\n",
       "      <th>product_price</th>\n",
       "    </tr>\n",
       "  </thead>\n",
       "  <tbody>\n",
       "    <tr>\n",
       "      <th>0</th>\n",
       "      <td>1</td>\n",
       "      <td>Product 1</td>\n",
       "      <td>55</td>\n",
       "    </tr>\n",
       "    <tr>\n",
       "      <th>1</th>\n",
       "      <td>2</td>\n",
       "      <td>Product 2</td>\n",
       "      <td>58</td>\n",
       "    </tr>\n",
       "    <tr>\n",
       "      <th>2</th>\n",
       "      <td>3</td>\n",
       "      <td>Product 3</td>\n",
       "      <td>74</td>\n",
       "    </tr>\n",
       "    <tr>\n",
       "      <th>3</th>\n",
       "      <td>4</td>\n",
       "      <td>Product 4</td>\n",
       "      <td>81</td>\n",
       "    </tr>\n",
       "    <tr>\n",
       "      <th>4</th>\n",
       "      <td>5</td>\n",
       "      <td>Product 5</td>\n",
       "      <td>47</td>\n",
       "    </tr>\n",
       "  </tbody>\n",
       "</table>\n",
       "</div>"
      ],
      "text/plain": [
       "   product_id product_name  product_price\n",
       "0           1    Product 1             55\n",
       "1           2    Product 2             58\n",
       "2           3    Product 3             74\n",
       "3           4    Product 4             81\n",
       "4           5    Product 5             47"
      ]
     },
     "execution_count": 13,
     "metadata": {},
     "output_type": "execute_result"
    }
   ],
   "source": [
    "products.head()"
   ]
  },
  {
   "cell_type": "code",
   "execution_count": 14,
   "id": "1ab7345d",
   "metadata": {},
   "outputs": [
    {
     "name": "stdout",
     "output_type": "stream",
     "text": [
      "<class 'pandas.core.frame.DataFrame'>\n",
      "RangeIndex: 100 entries, 0 to 99\n",
      "Data columns (total 3 columns):\n",
      " #   Column         Non-Null Count  Dtype \n",
      "---  ------         --------------  ----- \n",
      " 0   product_id     100 non-null    int32 \n",
      " 1   product_name   100 non-null    object\n",
      " 2   product_price  100 non-null    int32 \n",
      "dtypes: int32(2), object(1)\n",
      "memory usage: 1.7+ KB\n"
     ]
    }
   ],
   "source": [
    "products.info()"
   ]
  },
  {
   "cell_type": "code",
   "execution_count": 15,
   "id": "6a3ea91d",
   "metadata": {},
   "outputs": [
    {
     "data": {
      "text/plain": [
       "product_id       0\n",
       "product_name     0\n",
       "product_price    0\n",
       "dtype: int64"
      ]
     },
     "execution_count": 15,
     "metadata": {},
     "output_type": "execute_result"
    }
   ],
   "source": [
    "products.isnull().sum()"
   ]
  },
  {
   "cell_type": "code",
   "execution_count": 16,
   "id": "5ae706e0",
   "metadata": {},
   "outputs": [
    {
     "data": {
      "text/plain": [
       "0"
      ]
     },
     "execution_count": 16,
     "metadata": {},
     "output_type": "execute_result"
    }
   ],
   "source": [
    "products.duplicated().sum()"
   ]
  },
  {
   "cell_type": "markdown",
   "id": "f41842c8",
   "metadata": {},
   "source": [
    "<center><span style=\"color: #ff71ce; font-family: cursive; font-size: 28px;\" > 3.4. Transactions </span></center>"
   ]
  },
  {
   "cell_type": "code",
   "execution_count": 17,
   "id": "782a2e90",
   "metadata": {},
   "outputs": [
    {
     "data": {
      "text/html": [
       "<div>\n",
       "<style scoped>\n",
       "    .dataframe tbody tr th:only-of-type {\n",
       "        vertical-align: middle;\n",
       "    }\n",
       "\n",
       "    .dataframe tbody tr th {\n",
       "        vertical-align: top;\n",
       "    }\n",
       "\n",
       "    .dataframe thead th {\n",
       "        text-align: right;\n",
       "    }\n",
       "</style>\n",
       "<table border=\"1\" class=\"dataframe\">\n",
       "  <thead>\n",
       "    <tr style=\"text-align: right;\">\n",
       "      <th></th>\n",
       "      <th>transaction_id</th>\n",
       "      <th>order_id</th>\n",
       "      <th>product_id</th>\n",
       "      <th>transaction_quantity</th>\n",
       "    </tr>\n",
       "  </thead>\n",
       "  <tbody>\n",
       "    <tr>\n",
       "      <th>0</th>\n",
       "      <td>1</td>\n",
       "      <td>3028</td>\n",
       "      <td>24</td>\n",
       "      <td>95</td>\n",
       "    </tr>\n",
       "    <tr>\n",
       "      <th>1</th>\n",
       "      <td>2</td>\n",
       "      <td>4384</td>\n",
       "      <td>70</td>\n",
       "      <td>83</td>\n",
       "    </tr>\n",
       "    <tr>\n",
       "      <th>2</th>\n",
       "      <td>3</td>\n",
       "      <td>1991</td>\n",
       "      <td>49</td>\n",
       "      <td>59</td>\n",
       "    </tr>\n",
       "    <tr>\n",
       "      <th>3</th>\n",
       "      <td>4</td>\n",
       "      <td>1382</td>\n",
       "      <td>38</td>\n",
       "      <td>99</td>\n",
       "    </tr>\n",
       "    <tr>\n",
       "      <th>4</th>\n",
       "      <td>5</td>\n",
       "      <td>4894</td>\n",
       "      <td>13</td>\n",
       "      <td>44</td>\n",
       "    </tr>\n",
       "  </tbody>\n",
       "</table>\n",
       "</div>"
      ],
      "text/plain": [
       "   transaction_id  order_id  product_id  transaction_quantity\n",
       "0               1      3028          24                    95\n",
       "1               2      4384          70                    83\n",
       "2               3      1991          49                    59\n",
       "3               4      1382          38                    99\n",
       "4               5      4894          13                    44"
      ]
     },
     "execution_count": 17,
     "metadata": {},
     "output_type": "execute_result"
    }
   ],
   "source": [
    "transactions.head()"
   ]
  },
  {
   "cell_type": "code",
   "execution_count": 18,
   "id": "86a5fc34",
   "metadata": {},
   "outputs": [
    {
     "name": "stdout",
     "output_type": "stream",
     "text": [
      "<class 'pandas.core.frame.DataFrame'>\n",
      "RangeIndex: 10000 entries, 0 to 9999\n",
      "Data columns (total 4 columns):\n",
      " #   Column                Non-Null Count  Dtype\n",
      "---  ------                --------------  -----\n",
      " 0   transaction_id        10000 non-null  int32\n",
      " 1   order_id              10000 non-null  int32\n",
      " 2   product_id            10000 non-null  int32\n",
      " 3   transaction_quantity  10000 non-null  int32\n",
      "dtypes: int32(4)\n",
      "memory usage: 156.4 KB\n"
     ]
    }
   ],
   "source": [
    "transactions.info()"
   ]
  },
  {
   "cell_type": "code",
   "execution_count": 19,
   "id": "829f141b",
   "metadata": {},
   "outputs": [
    {
     "data": {
      "text/plain": [
       "transaction_id          0\n",
       "order_id                0\n",
       "product_id              0\n",
       "transaction_quantity    0\n",
       "dtype: int64"
      ]
     },
     "execution_count": 19,
     "metadata": {},
     "output_type": "execute_result"
    }
   ],
   "source": [
    "transactions.isnull().sum()"
   ]
  },
  {
   "cell_type": "code",
   "execution_count": 20,
   "id": "66b38ccc",
   "metadata": {},
   "outputs": [
    {
     "data": {
      "text/plain": [
       "0"
      ]
     },
     "execution_count": 20,
     "metadata": {},
     "output_type": "execute_result"
    }
   ],
   "source": [
    "transactions.duplicated().sum()"
   ]
  },
  {
   "cell_type": "markdown",
   "id": "fa3b4b9c",
   "metadata": {},
   "source": [
    "<div class=\"alert alert-block alert-info\" style=\"font-size:20px;\"> 📌 I knew there is no missing value.I just brought this heatmap to share a tool for checking missing values:</div>"
   ]
  },
  {
   "cell_type": "code",
   "execution_count": 21,
   "id": "4b678eb2",
   "metadata": {},
   "outputs": [
    {
     "data": {
      "text/plain": [
       "<Axes: >"
      ]
     },
     "execution_count": 21,
     "metadata": {},
     "output_type": "execute_result"
    },
    {
     "data": {
      "image/png": "[encoded data removed]",
      "text/plain": [
       "<Figure size 640x480 with 2 Axes>"
      ]
     },
     "metadata": {},
     "output_type": "display_data"
    }
   ],
   "source": [
    "sns.heatmap(transactions.isnull())"
   ]
  },
  {
   "cell_type": "markdown",
   "id": "1173fbcb",
   "metadata": {},
   "source": [
    "<div class=\"alert alert-block alert-info\" style=\"font-size:20px;\"> 📌 I knew that there was no need to data cleaning, but I wanted to be sure that there was no error on my analysis.</div>"
   ]
  },
  {
   "cell_type": "markdown",
   "id": "9aab334c",
   "metadata": {},
   "source": [
    "------------------------------"
   ]
  },
  {
   "cell_type": "markdown",
   "id": "2ccdbdbe",
   "metadata": {},
   "source": [
    "<center><span style=\"color: #b967ff; font-family: cursive; font-size: 28px;\" >4. Basic Insights 🐰</span><center/>"
   ]
  },
  {
   "cell_type": "markdown",
   "id": "76c8030b",
   "metadata": {},
   "source": [
    "<span style=\"color: #ff71ce; font-size:20px;\"> Total number of Customers: <span>"
   ]
  },
  {
   "cell_type": "code",
   "execution_count": 22,
   "id": "af805b50",
   "metadata": {},
   "outputs": [
    {
     "name": "stdout",
     "output_type": "stream",
     "text": [
      "The total number of customers is: 1000\n"
     ]
    }
   ],
   "source": [
    "print(f'The total number of customers is: {len(customers.customer_id)}')"
   ]
  },
  {
   "cell_type": "markdown",
   "id": "14e957c5",
   "metadata": {},
   "source": [
    " <span style=\"color: #ff71ce; font-size:20px;\"> Total number of Orders:  <span>"
   ]
  },
  {
   "cell_type": "code",
   "execution_count": 23,
   "id": "e5529882",
   "metadata": {},
   "outputs": [
    {
     "name": "stdout",
     "output_type": "stream",
     "text": [
      "The total number of orders is: 5000\n"
     ]
    }
   ],
   "source": [
    "print(f'The total number of orders is: {len(orders.order_id)}')"
   ]
  },
  {
   "cell_type": "markdown",
   "id": "a82e2ac8",
   "metadata": {},
   "source": [
    "<span style=\"color: #ff71ce;font-size:20px;\"> Total number of products: <span>"
   ]
  },
  {
   "cell_type": "code",
   "execution_count": 24,
   "id": "03f6f738",
   "metadata": {},
   "outputs": [
    {
     "name": "stdout",
     "output_type": "stream",
     "text": [
      "The total number of products is: 100\n"
     ]
    }
   ],
   "source": [
    "print(f'The total number of products is: {len(products.product_id)}')"
   ]
  },
  {
   "cell_type": "markdown",
   "id": "ee6d3f67",
   "metadata": {},
   "source": [
    "<span style=\"color: #ff71ce;font-size:20px;\"> Total number of Transactions: <span>"
   ]
  },
  {
   "cell_type": "code",
   "execution_count": 25,
   "id": "8d2fad33",
   "metadata": {},
   "outputs": [
    {
     "name": "stdout",
     "output_type": "stream",
     "text": [
      "The total number of Transactions is: 10000\n"
     ]
    }
   ],
   "source": [
    "print(f'The total number of Transactions is: {len(transactions.transaction_id)}')"
   ]
  },
  {
   "cell_type": "markdown",
   "id": "206529df",
   "metadata": {},
   "source": [
    "<span style=\"color: #ff71ce;font-size:20px;\"> Total Revenue: <span>"
   ]
  },
  {
   "cell_type": "code",
   "execution_count": 26,
   "id": "1f88e9cf",
   "metadata": {},
   "outputs": [
    {
     "data": {
      "text/html": [
       "<div>\n",
       "<style scoped>\n",
       "    .dataframe tbody tr th:only-of-type {\n",
       "        vertical-align: middle;\n",
       "    }\n",
       "\n",
       "    .dataframe tbody tr th {\n",
       "        vertical-align: top;\n",
       "    }\n",
       "\n",
       "    .dataframe thead th {\n",
       "        text-align: right;\n",
       "    }\n",
       "</style>\n",
       "<table border=\"1\" class=\"dataframe\">\n",
       "  <thead>\n",
       "    <tr style=\"text-align: right;\">\n",
       "      <th></th>\n",
       "      <th>transaction_id</th>\n",
       "      <th>order_id</th>\n",
       "      <th>product_id</th>\n",
       "      <th>transaction_quantity</th>\n",
       "      <th>product_name</th>\n",
       "      <th>product_price</th>\n",
       "    </tr>\n",
       "  </thead>\n",
       "  <tbody>\n",
       "    <tr>\n",
       "      <th>0</th>\n",
       "      <td>1</td>\n",
       "      <td>3028</td>\n",
       "      <td>24</td>\n",
       "      <td>95</td>\n",
       "      <td>Product 24</td>\n",
       "      <td>9</td>\n",
       "    </tr>\n",
       "    <tr>\n",
       "      <th>1</th>\n",
       "      <td>93</td>\n",
       "      <td>528</td>\n",
       "      <td>24</td>\n",
       "      <td>28</td>\n",
       "      <td>Product 24</td>\n",
       "      <td>9</td>\n",
       "    </tr>\n",
       "    <tr>\n",
       "      <th>2</th>\n",
       "      <td>230</td>\n",
       "      <td>3812</td>\n",
       "      <td>24</td>\n",
       "      <td>64</td>\n",
       "      <td>Product 24</td>\n",
       "      <td>9</td>\n",
       "    </tr>\n",
       "    <tr>\n",
       "      <th>3</th>\n",
       "      <td>282</td>\n",
       "      <td>4734</td>\n",
       "      <td>24</td>\n",
       "      <td>35</td>\n",
       "      <td>Product 24</td>\n",
       "      <td>9</td>\n",
       "    </tr>\n",
       "    <tr>\n",
       "      <th>4</th>\n",
       "      <td>431</td>\n",
       "      <td>2448</td>\n",
       "      <td>24</td>\n",
       "      <td>12</td>\n",
       "      <td>Product 24</td>\n",
       "      <td>9</td>\n",
       "    </tr>\n",
       "    <tr>\n",
       "      <th>...</th>\n",
       "      <td>...</td>\n",
       "      <td>...</td>\n",
       "      <td>...</td>\n",
       "      <td>...</td>\n",
       "      <td>...</td>\n",
       "      <td>...</td>\n",
       "    </tr>\n",
       "    <tr>\n",
       "      <th>9995</th>\n",
       "      <td>9695</td>\n",
       "      <td>3073</td>\n",
       "      <td>3</td>\n",
       "      <td>10</td>\n",
       "      <td>Product 3</td>\n",
       "      <td>74</td>\n",
       "    </tr>\n",
       "    <tr>\n",
       "      <th>9996</th>\n",
       "      <td>9769</td>\n",
       "      <td>15</td>\n",
       "      <td>3</td>\n",
       "      <td>11</td>\n",
       "      <td>Product 3</td>\n",
       "      <td>74</td>\n",
       "    </tr>\n",
       "    <tr>\n",
       "      <th>9997</th>\n",
       "      <td>9894</td>\n",
       "      <td>4478</td>\n",
       "      <td>3</td>\n",
       "      <td>73</td>\n",
       "      <td>Product 3</td>\n",
       "      <td>74</td>\n",
       "    </tr>\n",
       "    <tr>\n",
       "      <th>9998</th>\n",
       "      <td>9918</td>\n",
       "      <td>601</td>\n",
       "      <td>3</td>\n",
       "      <td>55</td>\n",
       "      <td>Product 3</td>\n",
       "      <td>74</td>\n",
       "    </tr>\n",
       "    <tr>\n",
       "      <th>9999</th>\n",
       "      <td>9962</td>\n",
       "      <td>619</td>\n",
       "      <td>3</td>\n",
       "      <td>12</td>\n",
       "      <td>Product 3</td>\n",
       "      <td>74</td>\n",
       "    </tr>\n",
       "  </tbody>\n",
       "</table>\n",
       "<p>10000 rows × 6 columns</p>\n",
       "</div>"
      ],
      "text/plain": [
       "      transaction_id  order_id  product_id  transaction_quantity product_name  \\\n",
       "0                  1      3028          24                    95   Product 24   \n",
       "1                 93       528          24                    28   Product 24   \n",
       "2                230      3812          24                    64   Product 24   \n",
       "3                282      4734          24                    35   Product 24   \n",
       "4                431      2448          24                    12   Product 24   \n",
       "...              ...       ...         ...                   ...          ...   \n",
       "9995            9695      3073           3                    10    Product 3   \n",
       "9996            9769        15           3                    11    Product 3   \n",
       "9997            9894      4478           3                    73    Product 3   \n",
       "9998            9918       601           3                    55    Product 3   \n",
       "9999            9962       619           3                    12    Product 3   \n",
       "\n",
       "      product_price  \n",
       "0                 9  \n",
       "1                 9  \n",
       "2                 9  \n",
       "3                 9  \n",
       "4                 9  \n",
       "...             ...  \n",
       "9995             74  \n",
       "9996             74  \n",
       "9997             74  \n",
       "9998             74  \n",
       "9999             74  \n",
       "\n",
       "[10000 rows x 6 columns]"
      ]
     },
     "execution_count": 26,
     "metadata": {},
     "output_type": "execute_result"
    }
   ],
   "source": [
    "result = pd.merge(transactions, products, on='product_id', how='inner')\n",
    "result"
   ]
  },
  {
   "cell_type": "code",
   "execution_count": 27,
   "id": "dfb5bd6d",
   "metadata": {},
   "outputs": [
    {
     "name": "stdout",
     "output_type": "stream",
     "text": [
      "The total revenue is: 26814748\n"
     ]
    }
   ],
   "source": [
    "result['revenue_per_line'] = result.product_price * result.transaction_quantity\n",
    "print(f'The total revenue is: {result.revenue_per_line.sum()}')"
   ]
  },
  {
   "cell_type": "markdown",
   "id": "732874c0",
   "metadata": {},
   "source": [
    "<center><span style=\"color: #b967ff; font-family: cursive; font-size: 28px;\" >5. Customer Insights 👨‍👩‍👧‍👧</span><center/>"
   ]
  },
  {
   "cell_type": "markdown",
   "id": "155fbd54",
   "metadata": {},
   "source": [
    "<span style=\"color: #ff71ce;font-size:20px;\"> How many orders each customer has placed (Describe): <span>"
   ]
  },
  {
   "cell_type": "code",
   "execution_count": 28,
   "id": "9ca551a2",
   "metadata": {},
   "outputs": [
    {
     "data": {
      "text/html": [
       "<div>\n",
       "<style scoped>\n",
       "    .dataframe tbody tr th:only-of-type {\n",
       "        vertical-align: middle;\n",
       "    }\n",
       "\n",
       "    .dataframe tbody tr th {\n",
       "        vertical-align: top;\n",
       "    }\n",
       "\n",
       "    .dataframe thead th {\n",
       "        text-align: right;\n",
       "    }\n",
       "</style>\n",
       "<table border=\"1\" class=\"dataframe\">\n",
       "  <thead>\n",
       "    <tr style=\"text-align: right;\">\n",
       "      <th></th>\n",
       "      <th>customer_id</th>\n",
       "      <th>number_of_orders</th>\n",
       "    </tr>\n",
       "  </thead>\n",
       "  <tbody>\n",
       "    <tr>\n",
       "      <th>0</th>\n",
       "      <td>1</td>\n",
       "      <td>9</td>\n",
       "    </tr>\n",
       "    <tr>\n",
       "      <th>1</th>\n",
       "      <td>2</td>\n",
       "      <td>1</td>\n",
       "    </tr>\n",
       "    <tr>\n",
       "      <th>2</th>\n",
       "      <td>3</td>\n",
       "      <td>9</td>\n",
       "    </tr>\n",
       "    <tr>\n",
       "      <th>3</th>\n",
       "      <td>4</td>\n",
       "      <td>6</td>\n",
       "    </tr>\n",
       "    <tr>\n",
       "      <th>4</th>\n",
       "      <td>5</td>\n",
       "      <td>7</td>\n",
       "    </tr>\n",
       "    <tr>\n",
       "      <th>...</th>\n",
       "      <td>...</td>\n",
       "      <td>...</td>\n",
       "    </tr>\n",
       "    <tr>\n",
       "      <th>988</th>\n",
       "      <td>996</td>\n",
       "      <td>3</td>\n",
       "    </tr>\n",
       "    <tr>\n",
       "      <th>989</th>\n",
       "      <td>997</td>\n",
       "      <td>4</td>\n",
       "    </tr>\n",
       "    <tr>\n",
       "      <th>990</th>\n",
       "      <td>998</td>\n",
       "      <td>6</td>\n",
       "    </tr>\n",
       "    <tr>\n",
       "      <th>991</th>\n",
       "      <td>999</td>\n",
       "      <td>5</td>\n",
       "    </tr>\n",
       "    <tr>\n",
       "      <th>992</th>\n",
       "      <td>1000</td>\n",
       "      <td>10</td>\n",
       "    </tr>\n",
       "  </tbody>\n",
       "</table>\n",
       "<p>993 rows × 2 columns</p>\n",
       "</div>"
      ],
      "text/plain": [
       "     customer_id  number_of_orders\n",
       "0              1                 9\n",
       "1              2                 1\n",
       "2              3                 9\n",
       "3              4                 6\n",
       "4              5                 7\n",
       "..           ...               ...\n",
       "988          996                 3\n",
       "989          997                 4\n",
       "990          998                 6\n",
       "991          999                 5\n",
       "992         1000                10\n",
       "\n",
       "[993 rows x 2 columns]"
      ]
     },
     "execution_count": 28,
     "metadata": {},
     "output_type": "execute_result"
    }
   ],
   "source": [
    "customer_orders = orders.groupby('customer_id')['order_id'].count().reset_index()\n",
    "customer_orders.columns = ['customer_id', 'number_of_orders']\n",
    "customer_orders"
   ]
  },
  {
   "cell_type": "code",
   "execution_count": 29,
   "id": "73b415de",
   "metadata": {},
   "outputs": [
    {
     "data": {
      "text/plain": [
       "count    993.000000\n",
       "mean       5.035247\n",
       "std        2.236466\n",
       "min        1.000000\n",
       "25%        3.000000\n",
       "50%        5.000000\n",
       "75%        7.000000\n",
       "max       14.000000\n",
       "Name: number_of_orders, dtype: float64"
      ]
     },
     "execution_count": 29,
     "metadata": {},
     "output_type": "execute_result"
    }
   ],
   "source": [
    "customer_orders.number_of_orders.describe()"
   ]
  },
  {
   "cell_type": "markdown",
   "id": "3773a15f",
   "metadata": {},
   "source": [
    "<span style=\"color: #ff71ce;font-size:20px;\"> Top customers based on the number of orders: <span>"
   ]
  },
  {
   "cell_type": "code",
   "execution_count": 36,
   "id": "b4c4601e",
   "metadata": {},
   "outputs": [
    {
     "data": {
      "text/html": [
       "<div>\n",
       "<style scoped>\n",
       "    .dataframe tbody tr th:only-of-type {\n",
       "        vertical-align: middle;\n",
       "    }\n",
       "\n",
       "    .dataframe tbody tr th {\n",
       "        vertical-align: top;\n",
       "    }\n",
       "\n",
       "    .dataframe thead th {\n",
       "        text-align: right;\n",
       "    }\n",
       "</style>\n",
       "<table border=\"1\" class=\"dataframe\">\n",
       "  <thead>\n",
       "    <tr style=\"text-align: right;\">\n",
       "      <th></th>\n",
       "      <th>customer_id</th>\n",
       "      <th>number_of_orders</th>\n",
       "    </tr>\n",
       "  </thead>\n",
       "  <tbody>\n",
       "    <tr>\n",
       "      <th>410</th>\n",
       "      <td>412</td>\n",
       "      <td>14</td>\n",
       "    </tr>\n",
       "    <tr>\n",
       "      <th>792</th>\n",
       "      <td>798</td>\n",
       "      <td>14</td>\n",
       "    </tr>\n",
       "    <tr>\n",
       "      <th>809</th>\n",
       "      <td>815</td>\n",
       "      <td>13</td>\n",
       "    </tr>\n",
       "    <tr>\n",
       "      <th>603</th>\n",
       "      <td>607</td>\n",
       "      <td>12</td>\n",
       "    </tr>\n",
       "    <tr>\n",
       "      <th>388</th>\n",
       "      <td>390</td>\n",
       "      <td>12</td>\n",
       "    </tr>\n",
       "  </tbody>\n",
       "</table>\n",
       "</div>"
      ],
      "text/plain": [
       "     customer_id  number_of_orders\n",
       "410          412                14\n",
       "792          798                14\n",
       "809          815                13\n",
       "603          607                12\n",
       "388          390                12"
      ]
     },
     "execution_count": 36,
     "metadata": {},
     "output_type": "execute_result"
    }
   ],
   "source": [
    "top_customers = customer_orders.sort_values(by='number_of_orders', ascending=False).head()\n",
    "top_customers"
   ]
  },
  {
   "cell_type": "code",
   "execution_count": 47,
   "id": "6ed08078",
   "metadata": {},
   "outputs": [
    {
     "data": {
      "image/png": "[encoded data removed]",
      "text/plain": [
       "<Figure size 1000x600 with 1 Axes>"
      ]
     },
     "metadata": {},
     "output_type": "display_data"
    }
   ],
   "source": [
    "plt.figure(figsize=(10, 6))\n",
    "sns.barplot(x='customer_id', y='number_of_orders', data=top_customers, palette='Blues_d')\n",
    "plt.xlabel('Customer ID')\n",
    "plt.ylabel('Number of Orders')\n",
    "plt.title('Top Customers Based on Number of Orders')\n",
    "plt.tight_layout()\n",
    "plt.show()"
   ]
  },
  {
   "cell_type": "markdown",
   "id": "9d009a14",
   "metadata": {},
   "source": [
    "<div style=\"color:white;\n",
    "           display:fill;\n",
    "           border-radius:5px;\n",
    "           background-color:#ff3f3f;\n",
    "           font-size:150%;\n",
    "           font-family:Verdana;\n",
    "           letter-spacing:0.5px\">\n",
    "\n",
    "<p style=\"padding: 10px;\n",
    "              color:white;\">\n",
    "📌 Unfortunately, the time limitation has been quite short for me. I hope I've been successful in showcasing a portion of my knowledge up to this point. This task was assigned to me on Monday, and the deadline for submission was Thursday morning. Therefore, I only had the evenings of Monday and Tuesday to work on it. Additionally, on Wednesday evening, I had my second interview at the Digikala office. As a result, I had only about 5-6 hours to prepare this answer files. Due to the time constraints, I decided to export the dataset to CSV so that I can import it into Power BI to continue the analysis. I believe that some parts of the task are better suited for demonstration in Power BI, as continuing in Python would have required more time:\n",
    "</p>\n",
    "</div>"
   ]
  },
  {
   "cell_type": "markdown",
   "id": "4b1faa58",
   "metadata": {},
   "source": [
    "<center><span style=\"color: #ff71ce; font-family: cursive; font-size: 28px;\" >6. Exporting to csv files 📂 ✈</span></center>"
   ]
  },
  {
   "cell_type": "code",
   "execution_count": 31,
   "id": "34629b8e",
   "metadata": {},
   "outputs": [],
   "source": [
    "output_directory = r\"C:\\KOUROSH\\Digikala\\CSV\"\n",
    "dataframes = {\n",
    "    \"customers\": customers,\n",
    "    \"orders\": orders,\n",
    "    \"products\": products,\n",
    "    \"transactions\": transactions\n",
    "}\n",
    "for table_name, table in dataframes.items():\n",
    "    CSV_file_path = os.path.join(output_directory, f\"{table_name}.csv\")\n",
    "    table.to_csv(CSV_file_path, index=False)\n",
    "\n",
    "print(f\"Data has been exported to {output_directory}\")"
   ]
  },
  {
   "cell_type": "markdown",
   "id": "1c00c951",
   "metadata": {},
   "source": [
    "<center><span style=\"color: #ff71ce; font-family: cursive; font-size: 28px;\" >7. Exporting to a PostgreSQL database 💻✈</span></center>"
   ]
  },
  {
   "cell_type": "markdown",
   "id": "ce08a1a6",
   "metadata": {},
   "source": [
    "<div class=\"alert alert-block alert-info\" style=\"font-size:20px;\"> 📌 I only wrote the code for a single table due to the time constraints, but all of them are the same.</div>"
   ]
  },
  {
   "cell_type": "code",
   "execution_count": 32,
   "id": "510a449c",
   "metadata": {},
   "outputs": [
    {
     "name": "stdout",
     "output_type": "stream",
     "text": [
      "Defaulting to user installation because normal site-packages is not writeable\n",
      "Requirement already satisfied: psycopg2 in c:\\users\\user\\appdata\\roaming\\python\\python311\\site-packages (2.9.9)\n",
      "Note: you may need to restart the kernel to use updated packages.\n"
     ]
    }
   ],
   "source": [
    "pip install psycopg2"
   ]
  },
  {
   "cell_type": "code",
   "execution_count": 33,
   "id": "1edf4dbc",
   "metadata": {},
   "outputs": [
    {
     "name": "stdout",
     "output_type": "stream",
     "text": [
      "psycopg2 successfully imported!\n"
     ]
    }
   ],
   "source": [
    "import psycopg2\n",
    "print(\"psycopg2 successfully imported!\")"
   ]
  },
  {
   "cell_type": "code",
   "execution_count": 34,
   "id": "a332ca23",
   "metadata": {},
   "outputs": [
    {
     "name": "stdout",
     "output_type": "stream",
     "text": [
      "Error: connection to server at \"localhost\" (::1), port 5432 failed: FATAL:  database \"digikala\" does not exist\n",
      "\n"
     ]
    }
   ],
   "source": [
    "# Connect to the PostgreSQL database\n",
    "try:\n",
    "    conn = psycopg2.connect(\n",
    "        host = 'localhost',\n",
    "        dbname = 'digikala',\n",
    "        user = 'postgres',\n",
    "        password = 'admin',\n",
    "        port = 5432\n",
    "    )\n",
    "    print(\"Connected to database successfully!\")\n",
    "\n",
    "    # Create a cursor\n",
    "    cur = conn.cursor()\n",
    "\n",
    "    # create products table\n",
    "    creata_Script = '''\n",
    "    CREATE TABLE IF NOT EXISTS products (\n",
    "        product_id PRIMARY KEY,\n",
    "        product_name VARCHAR(100),\n",
    "        product_price FLOAT\n",
    "    )\n",
    "    '''\n",
    "    cur.execute(creata_Script)\n",
    "\n",
    "    # Iterate through the dataset and insert each row into the table\n",
    "\n",
    "    for index, row in products.iterrows():\n",
    "        insert_query = \"\"\"\n",
    "        INSERT INTO imdb_table (\n",
    "            product_id, product_name, product_price\n",
    "            )\n",
    "        VALUES (\n",
    "        %s, %s, %s, %s, %s, %s, %s, %s, %s, %s, %s, %s, %s, %s, %s\n",
    "        );\n",
    "        \"\"\"\n",
    "        cur.execute(insert_query, (\n",
    "            row[\"product_id\"],\n",
    "            row[\"product_name\"],\n",
    "            row[\"product_price\"]\n",
    "            ))    \n",
    "    # Execute SQL queries\n",
    "    rows = cur.fetchall()\n",
    "\n",
    "        \n",
    "    #commit the queris\n",
    "    conn.commit()\n",
    "    \n",
    "    # Close the cursor and connection\n",
    "    cur.close()\n",
    "    conn.close()\n",
    "    print(\"Connection closed.\")\n",
    "\n",
    "except psycopg2.Error as e:\n",
    "    print(\"Error:\", e)\n"
   ]
  }
 ],
 "metadata": {
  "kernelspec": {
   "display_name": "Python 3 (ipykernel)",
   "language": "python",
   "name": "python3"
  },
  "language_info": {
   "codemirror_mode": {
    "name": "ipython",
    "version": 3
   },
   "file_extension": ".py",
   "mimetype": "text/x-python",
   "name": "python",
   "nbconvert_exporter": "python",
   "pygments_lexer": "ipython3",
   "version": "3.11.4"
  }
 },
 "nbformat": 4,
 "nbformat_minor": 5
}
